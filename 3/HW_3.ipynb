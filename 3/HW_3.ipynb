{
 "cells": [
  {
   "cell_type": "markdown",
   "metadata": {},
   "source": [
    "# Урок 3. Классификация на практике\n",
    "\n",
    "Один из способов повысить эффективность взаимодействия банка с клиентами — отправлять предложение о новой услуге не всем клиентам, а только некоторым, которые выбираются по принципу наибольшей склонности к отклику на это предложение.    \n",
    "\n",
    "Задача заключается в том, чтобы предложить алгоритм, который будет выдавать склонность клиента к положительному или отрицательному отклику на предложение банка. Предполагается, что, получив такие оценки для некоторого множества клиентов, банк обратится с предложением только к тем, от кого ожидается положительный отклик.    \n",
    "\n",
    "Создайте модель линейной регрессии, которая бы оценивала лояльность пользователей к отклику.    \n",
    "\n",
    "Пояснения к признакам набора данных:    \n",
    "\n",
    "• AGREEMENT_RK — уникальный идентификатор объекта в выборке;    \n",
    "• TARGET — целевая переменная: отклик на маркетинговую кампанию (1 — отклик был зарегистрирован, 0 — отклика не было);    \n",
    "• AGE — возраст клиента;    \n",
    "• SOCSTATUS_WORK_FL — социальный статус клиента относительно работы (1 — работает, 0 — не работает);    \n",
    "• SOCSTATUS_PENS_FL — социальный статус клиента относительно пенсии (1 — пенсионер, 0 — не пенсионер);    \n",
    "• GENDER — пол клиента (1 — мужчина, 0 — женщина);    \n",
    "• CHILD_TOTAL — количество детей клиента;    \n",
    "• DEPENDANTS — количество иждивенцев клиента;    \n",
    "• PERSONAL_INCOME — личный доход клиента (в рублях);    \n",
    "• LOAN_NUM_TOTAL — количество ссуд клиента;    \n",
    "• LOAN_NUM_CLOSED — количество погашенных ссуд клиента.    "
   ]
  },
  {
   "cell_type": "markdown",
   "metadata": {},
   "source": []
  },
  {
   "cell_type": "code",
   "execution_count": 3,
   "metadata": {},
   "outputs": [],
   "source": [
    "# Импорт необходимых библиотек\n",
    "import pandas as pd\n",
    "import numpy as np\n",
    "from sklearn.model_selection import train_test_split\n",
    "from sklearn.linear_model import LogisticRegression\n",
    "from sklearn.metrics import accuracy_score, roc_auc_score, classification_report, confusion_matrix, mean_absolute_error\n",
    "import matplotlib.pyplot as plt\n",
    "import seaborn as sns"
   ]
  },
  {
   "cell_type": "code",
   "execution_count": 4,
   "metadata": {},
   "outputs": [
    {
     "name": "stdout",
     "output_type": "stream",
     "text": [
      "   AGE  SOCSTATUS_WORK_FL  SOCSTATUS_PENS_FL  GENDER  CHILD_TOTAL  DEPENDANTS  \\\n",
      "0   49                  1                  0       1            2           1   \n",
      "1   32                  1                  0       1            3           3   \n",
      "2   52                  1                  0       1            4           0   \n",
      "3   39                  1                  0       1            1           1   \n",
      "4   30                  1                  0       0            0           0   \n",
      "\n",
      "   PERSONAL_INCOME  LOAN_NUM_TOTAL  LOAN_NUM_CLOSED  LOAN_DLQ_NUM  TARGET  \n",
      "0           5000.0               1                1             2       0  \n",
      "1          12000.0               1                1             1       0  \n",
      "2           9000.0               2                1             0       0  \n",
      "3          25000.0               1                1             3       0  \n",
      "4          12000.0               2                1             2       0  \n"
     ]
    }
   ],
   "source": [
    "# Загрузка данных\n",
    "data = pd.read_csv('clients_data.csv')\n",
    "\n",
    "# Просмотр первых строк данных\n",
    "print(data.head())"
   ]
  },
  {
   "cell_type": "code",
   "execution_count": 5,
   "metadata": {},
   "outputs": [
    {
     "name": "stdout",
     "output_type": "stream",
     "text": [
      "<class 'pandas.core.frame.DataFrame'>\n",
      "RangeIndex: 15223 entries, 0 to 15222\n",
      "Data columns (total 11 columns):\n",
      " #   Column             Non-Null Count  Dtype  \n",
      "---  ------             --------------  -----  \n",
      " 0   AGE                15223 non-null  int64  \n",
      " 1   SOCSTATUS_WORK_FL  15223 non-null  int64  \n",
      " 2   SOCSTATUS_PENS_FL  15223 non-null  int64  \n",
      " 3   GENDER             15223 non-null  int64  \n",
      " 4   CHILD_TOTAL        15223 non-null  int64  \n",
      " 5   DEPENDANTS         15223 non-null  int64  \n",
      " 6   PERSONAL_INCOME    15223 non-null  float64\n",
      " 7   LOAN_NUM_TOTAL     15223 non-null  int64  \n",
      " 8   LOAN_NUM_CLOSED    15223 non-null  int64  \n",
      " 9   LOAN_DLQ_NUM       15223 non-null  int64  \n",
      " 10  TARGET             15223 non-null  int64  \n",
      "dtypes: float64(1), int64(10)\n",
      "memory usage: 1.3 MB\n",
      "None\n",
      "                AGE  SOCSTATUS_WORK_FL  SOCSTATUS_PENS_FL        GENDER  \\\n",
      "count  15223.000000       15223.000000       15223.000000  15223.000000   \n",
      "mean      40.406096           0.909610           0.134468      0.654536   \n",
      "std       11.601068           0.286748           0.341165      0.475535   \n",
      "min       21.000000           0.000000           0.000000      0.000000   \n",
      "25%       30.000000           1.000000           0.000000      0.000000   \n",
      "50%       39.000000           1.000000           0.000000      1.000000   \n",
      "75%       50.000000           1.000000           0.000000      1.000000   \n",
      "max       67.000000           1.000000           1.000000      1.000000   \n",
      "\n",
      "        CHILD_TOTAL    DEPENDANTS  PERSONAL_INCOME  LOAN_NUM_TOTAL  \\\n",
      "count  15223.000000  15223.000000     15223.000000    15223.000000   \n",
      "mean       1.099389      0.645208     13853.836323        1.387769   \n",
      "std        0.995411      0.812252      9015.467617        0.793566   \n",
      "min        0.000000      0.000000        24.000000        1.000000   \n",
      "25%        0.000000      0.000000      8000.000000        1.000000   \n",
      "50%        1.000000      0.000000     12000.000000        1.000000   \n",
      "75%        2.000000      1.000000     17000.000000        2.000000   \n",
      "max       10.000000      7.000000    250000.000000       11.000000   \n",
      "\n",
      "       LOAN_NUM_CLOSED  LOAN_DLQ_NUM        TARGET  \n",
      "count     15223.000000  15223.000000  15223.000000  \n",
      "mean          0.751889      0.195362      0.119030  \n",
      "std           0.988499      0.685022      0.323835  \n",
      "min           0.000000      0.000000      0.000000  \n",
      "25%           0.000000      0.000000      0.000000  \n",
      "50%           0.000000      0.000000      0.000000  \n",
      "75%           1.000000      0.000000      0.000000  \n",
      "max          11.000000     13.000000      1.000000  \n"
     ]
    }
   ],
   "source": [
    "# Первичный анализ данных\n",
    "print(data.info())\n",
    "print(data.describe())"
   ]
  },
  {
   "cell_type": "code",
   "execution_count": 7,
   "metadata": {},
   "outputs": [
    {
     "name": "stdout",
     "output_type": "stream",
     "text": [
      "Точность модели: 0.8788177339901477\n",
      "Матрица ошибок:\n",
      "[[2676    0]\n",
      " [ 369    0]]\n",
      "Отчет о классификации:\n",
      "              precision    recall  f1-score   support\n",
      "\n",
      "           0       0.88      1.00      0.94      2676\n",
      "           1       0.00      0.00      0.00       369\n",
      "\n",
      "    accuracy                           0.88      3045\n",
      "   macro avg       0.44      0.50      0.47      3045\n",
      "weighted avg       0.77      0.88      0.82      3045\n",
      "\n"
     ]
    },
    {
     "name": "stderr",
     "output_type": "stream",
     "text": [
      "c:\\Users\\user\\AppData\\Local\\Programs\\Python\\Python38\\lib\\site-packages\\sklearn\\metrics\\_classification.py:1471: UndefinedMetricWarning: Precision and F-score are ill-defined and being set to 0.0 in labels with no predicted samples. Use `zero_division` parameter to control this behavior.\n",
      "  _warn_prf(average, modifier, msg_start, len(result))\n",
      "c:\\Users\\user\\AppData\\Local\\Programs\\Python\\Python38\\lib\\site-packages\\sklearn\\metrics\\_classification.py:1471: UndefinedMetricWarning: Precision and F-score are ill-defined and being set to 0.0 in labels with no predicted samples. Use `zero_division` parameter to control this behavior.\n",
      "  _warn_prf(average, modifier, msg_start, len(result))\n",
      "c:\\Users\\user\\AppData\\Local\\Programs\\Python\\Python38\\lib\\site-packages\\sklearn\\metrics\\_classification.py:1471: UndefinedMetricWarning: Precision and F-score are ill-defined and being set to 0.0 in labels with no predicted samples. Use `zero_division` parameter to control this behavior.\n",
      "  _warn_prf(average, modifier, msg_start, len(result))\n"
     ]
    }
   ],
   "source": [
    "# Выбор признаков и целевой переменной\n",
    "X = data[['AGE', 'SOCSTATUS_WORK_FL', 'SOCSTATUS_PENS_FL', 'GENDER', \n",
    "           'CHILD_TOTAL', 'DEPENDANTS', 'PERSONAL_INCOME', \n",
    "           'LOAN_NUM_TOTAL', 'LOAN_NUM_CLOSED']]\n",
    "y = data['TARGET']\n",
    "\n",
    "# Разделение данных на обучающую (80%) и тестовую (20%) выборки\n",
    "X_train, X_test, y_train, y_test = train_test_split(X, y, test_size=0.2, random_state=42)\n",
    "\n",
    "# Создание модели логистической регрессии\n",
    "model = LogisticRegression(max_iter=3000)\n",
    "\n",
    "# Обучение модели на обучающей выборке\n",
    "model.fit(X_train, y_train)\n",
    "\n",
    "# Предсказание на тестовой выборке\n",
    "y_pred = model.predict(X_test)\n",
    "\n",
    "\n",
    "# Оценка качества модели\n",
    "accuracy = accuracy_score(y_test, y_pred)\n",
    "conf_matrix = confusion_matrix(y_test, y_pred)\n",
    "class_report = classification_report(y_test, y_pred)\n",
    "\n",
    "# Вывод результатов\n",
    "print(f\"Точность модели: {accuracy}\")\n",
    "print(\"Матрица ошибок:\")\n",
    "print(conf_matrix)\n",
    "print(\"Отчет о классификации:\")\n",
    "print(class_report)"
   ]
  }
 ],
 "metadata": {
  "kernelspec": {
   "display_name": "Python 3",
   "language": "python",
   "name": "python3"
  },
  "language_info": {
   "codemirror_mode": {
    "name": "ipython",
    "version": 3
   },
   "file_extension": ".py",
   "mimetype": "text/x-python",
   "name": "python",
   "nbconvert_exporter": "python",
   "pygments_lexer": "ipython3",
   "version": "3.8.10"
  }
 },
 "nbformat": 4,
 "nbformat_minor": 2
}
