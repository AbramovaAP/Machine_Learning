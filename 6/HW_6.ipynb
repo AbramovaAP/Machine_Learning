{
  "cells": [
    {
      "cell_type": "markdown",
      "metadata": {
        "id": "o6I4n4hwCgV5"
      },
      "source": [
        "# Работа с данными. Домашнее задание\n"
      ]
    },
    {
      "cell_type": "markdown",
      "metadata": {
        "id": "CUhKZgVsFEkk"
      },
      "source": [
        "## Задача\n",
        "Имеется набор данных покупателей супермаркета. Проведите анализ и очистку этих данных."
      ]
    },
    {
      "cell_type": "markdown",
      "metadata": {
        "id": "MMergpE8Fj8-"
      },
      "source": [
        "### Описание данных\n",
        "\n",
        "Дан файл Mall_Customers.csv, содержащий следующие данные по покупателям сети супермаркетов:\n",
        "- CustomerID — идентификатор покупателя.\n",
        "- Genre – пол покупателя.\n",
        "- Age – возраст покупателя.\n",
        "- Annual Income (k\\$) – годовой доход покупателя, тысяч $.\n",
        "- Spending Score (1–100) – рейтинг покупателя, целевая переменная."
      ]
    },
    {
      "cell_type": "markdown",
      "metadata": {
        "id": "9pfNcyY_FoV7"
      },
      "source": [
        "### Задание 1\n",
        "\n",
        "Загрузите данные из файла `Mall_Customers.csv` в ноутбук и выведите первые пять строк на экран."
      ]
    },
    {
      "cell_type": "code",
      "execution_count": 1,
      "metadata": {
        "id": "9Q82jW1UCjGi"
      },
      "outputs": [],
      "source": [
        "# Импорт библиотек\n",
        "import pandas as pd\n",
        "import numpy as np\n",
        "import seaborn as sns\n",
        "import matplotlib.pyplot as plt\n"
      ]
    },
    {
      "cell_type": "code",
      "execution_count": 2,
      "metadata": {},
      "outputs": [
        {
          "data": {
            "text/html": [
              "<div>\n",
              "<style scoped>\n",
              "    .dataframe tbody tr th:only-of-type {\n",
              "        vertical-align: middle;\n",
              "    }\n",
              "\n",
              "    .dataframe tbody tr th {\n",
              "        vertical-align: top;\n",
              "    }\n",
              "\n",
              "    .dataframe thead th {\n",
              "        text-align: right;\n",
              "    }\n",
              "</style>\n",
              "<table border=\"1\" class=\"dataframe\">\n",
              "  <thead>\n",
              "    <tr style=\"text-align: right;\">\n",
              "      <th></th>\n",
              "      <th>CustomerID</th>\n",
              "      <th>Genre</th>\n",
              "      <th>Age</th>\n",
              "      <th>Annual Income (k$)</th>\n",
              "      <th>Spending Score (1-100)</th>\n",
              "    </tr>\n",
              "  </thead>\n",
              "  <tbody>\n",
              "    <tr>\n",
              "      <th>0</th>\n",
              "      <td>1</td>\n",
              "      <td>Male</td>\n",
              "      <td>19.0</td>\n",
              "      <td>15.0</td>\n",
              "      <td>39</td>\n",
              "    </tr>\n",
              "    <tr>\n",
              "      <th>1</th>\n",
              "      <td>2</td>\n",
              "      <td>Male</td>\n",
              "      <td>NaN</td>\n",
              "      <td>NaN</td>\n",
              "      <td>81</td>\n",
              "    </tr>\n",
              "    <tr>\n",
              "      <th>2</th>\n",
              "      <td>3</td>\n",
              "      <td>Female</td>\n",
              "      <td>NaN</td>\n",
              "      <td>16.0</td>\n",
              "      <td>6</td>\n",
              "    </tr>\n",
              "    <tr>\n",
              "      <th>3</th>\n",
              "      <td>4</td>\n",
              "      <td>Female</td>\n",
              "      <td>23.0</td>\n",
              "      <td>16.0</td>\n",
              "      <td>77</td>\n",
              "    </tr>\n",
              "    <tr>\n",
              "      <th>4</th>\n",
              "      <td>5</td>\n",
              "      <td>Female</td>\n",
              "      <td>31.0</td>\n",
              "      <td>17.0</td>\n",
              "      <td>40</td>\n",
              "    </tr>\n",
              "  </tbody>\n",
              "</table>\n",
              "</div>"
            ],
            "text/plain": [
              "   CustomerID   Genre   Age  Annual Income (k$)  Spending Score (1-100)\n",
              "0           1    Male  19.0                15.0                      39\n",
              "1           2    Male   NaN                 NaN                      81\n",
              "2           3  Female   NaN                16.0                       6\n",
              "3           4  Female  23.0                16.0                      77\n",
              "4           5  Female  31.0                17.0                      40"
            ]
          },
          "execution_count": 2,
          "metadata": {},
          "output_type": "execute_result"
        }
      ],
      "source": [
        "df = pd.read_csv('Mall_Customers.csv')\n",
        "df.head()"
      ]
    },
    {
      "cell_type": "code",
      "execution_count": 3,
      "metadata": {},
      "outputs": [
        {
          "data": {
            "text/html": [
              "<div>\n",
              "<style scoped>\n",
              "    .dataframe tbody tr th:only-of-type {\n",
              "        vertical-align: middle;\n",
              "    }\n",
              "\n",
              "    .dataframe tbody tr th {\n",
              "        vertical-align: top;\n",
              "    }\n",
              "\n",
              "    .dataframe thead th {\n",
              "        text-align: right;\n",
              "    }\n",
              "</style>\n",
              "<table border=\"1\" class=\"dataframe\">\n",
              "  <thead>\n",
              "    <tr style=\"text-align: right;\">\n",
              "      <th></th>\n",
              "      <th>CustomerID</th>\n",
              "      <th>Gender</th>\n",
              "      <th>Age</th>\n",
              "      <th>Annual Income (k$)</th>\n",
              "      <th>Spending Score (1-100)</th>\n",
              "    </tr>\n",
              "  </thead>\n",
              "  <tbody>\n",
              "    <tr>\n",
              "      <th>0</th>\n",
              "      <td>1</td>\n",
              "      <td>Male</td>\n",
              "      <td>19.0</td>\n",
              "      <td>15.0</td>\n",
              "      <td>39</td>\n",
              "    </tr>\n",
              "    <tr>\n",
              "      <th>1</th>\n",
              "      <td>2</td>\n",
              "      <td>Male</td>\n",
              "      <td>NaN</td>\n",
              "      <td>NaN</td>\n",
              "      <td>81</td>\n",
              "    </tr>\n",
              "    <tr>\n",
              "      <th>2</th>\n",
              "      <td>3</td>\n",
              "      <td>Female</td>\n",
              "      <td>NaN</td>\n",
              "      <td>16.0</td>\n",
              "      <td>6</td>\n",
              "    </tr>\n",
              "    <tr>\n",
              "      <th>3</th>\n",
              "      <td>4</td>\n",
              "      <td>Female</td>\n",
              "      <td>23.0</td>\n",
              "      <td>16.0</td>\n",
              "      <td>77</td>\n",
              "    </tr>\n",
              "    <tr>\n",
              "      <th>4</th>\n",
              "      <td>5</td>\n",
              "      <td>Female</td>\n",
              "      <td>31.0</td>\n",
              "      <td>17.0</td>\n",
              "      <td>40</td>\n",
              "    </tr>\n",
              "  </tbody>\n",
              "</table>\n",
              "</div>"
            ],
            "text/plain": [
              "   CustomerID  Gender   Age  Annual Income (k$)  Spending Score (1-100)\n",
              "0           1    Male  19.0                15.0                      39\n",
              "1           2    Male   NaN                 NaN                      81\n",
              "2           3  Female   NaN                16.0                       6\n",
              "3           4  Female  23.0                16.0                      77\n",
              "4           5  Female  31.0                17.0                      40"
            ]
          },
          "execution_count": 3,
          "metadata": {},
          "output_type": "execute_result"
        }
      ],
      "source": [
        "# Исправляем опечатку в  названии столбца Genre:\n",
        "df.rename(columns={'Genre': 'Gender'}, inplace=True)\n",
        "df.head()"
      ]
    },
    {
      "cell_type": "markdown",
      "metadata": {
        "id": "dZ6Tm3koGft2"
      },
      "source": [
        "### Задание 2\n",
        "\n",
        "Проведите разведочный анализ загруженных данных. Обязательные атрибуты для анализа:\n",
        "- количество пропусков в каждом признаке;\n",
        "- распределения признаков;\n",
        "- возможные выбросы или аномалии.\n",
        "\n",
        "Анализ дополнительных атрибутов и свойств данных приветствуется. Используйте средства визуализации там, где это необходимо.\n",
        "\n",
        "По результатам анализа сделайте выводы о свойствах отдельных признаков и качестве данных в целом."
      ]
    },
    {
      "cell_type": "code",
      "execution_count": 4,
      "metadata": {
        "id": "zczQG5MoHulI"
      },
      "outputs": [
        {
          "name": "stdout",
          "output_type": "stream",
          "text": [
            "Дубликаты по CustomerID:\n",
            "Empty DataFrame\n",
            "Columns: [CustomerID, Gender, Age, Annual Income (k$), Spending Score (1-100)]\n",
            "Index: []\n"
          ]
        }
      ],
      "source": [
        "# Проверяем и удаляем дубликаты только в CustomerID\n",
        "\n",
        "duplicates = df[df.duplicated(subset='CustomerID')]\n",
        "print(\"Дубликаты по CustomerID:\")\n",
        "print(duplicates)"
      ]
    },
    {
      "cell_type": "markdown",
      "metadata": {},
      "source": [
        "В столбце CustomerID нет дубликатов, и DataFrame уже очищен от любых повторений по этому столбцу, поэтому в дальнейшем дубликаты не ищем и не удаляем, чтобы не исказить модель."
      ]
    },
    {
      "cell_type": "code",
      "execution_count": 5,
      "metadata": {},
      "outputs": [
        {
          "name": "stdout",
          "output_type": "stream",
          "text": [
            "Количество пропусков в каждом признаке:\n",
            "CustomerID                 0\n",
            "Gender                    19\n",
            "Age                       20\n",
            "Annual Income (k$)        20\n",
            "Spending Score (1-100)     0\n",
            "dtype: int64\n"
          ]
        }
      ],
      "source": [
        "# Проверка количества пропусков в каждом признаке\n",
        "missing_values = df.isnull().sum()\n",
        "print(\"Количество пропусков в каждом признаке:\")\n",
        "print(missing_values)"
      ]
    },
    {
      "cell_type": "code",
      "execution_count": 6,
      "metadata": {},
      "outputs": [
        {
          "name": "stdout",
          "output_type": "stream",
          "text": [
            "   Gender   Age  Annual Income (k$)  Spending Score (1-100)\n",
            "0    Male  19.0                15.0                      39\n",
            "1    Male   NaN                 NaN                      81\n",
            "2  Female   NaN                16.0                       6\n",
            "3  Female  23.0                16.0                      77\n",
            "4  Female  31.0                17.0                      40\n"
          ]
        }
      ],
      "source": [
        "# Удаляем столбец 'CustomerID'\n",
        "df = df.drop('CustomerID', axis=1)\n",
        "\n",
        "# Проверка, что столбец удален\n",
        "print(df.head())"
      ]
    },
    {
      "cell_type": "code",
      "execution_count": 7,
      "metadata": {},
      "outputs": [
        {
          "name": "stdout",
          "output_type": "stream",
          "text": [
            "Уникальные значения в столбце Gender: ['Male' 'Female' nan 'Feemale']\n",
            "Уникальные значения в столбце Age: [ 19.  nan  23.  31.  22. 135.  30.  35.  58.  24.  37.  20.  52.  25.\n",
            "  46.  54.  29.  45.  40.  60.  21.  53.  18.  49.  65.  48.  27.  33.\n",
            "  59.  50.  47.  51.  69.  70.  67.  63.  43.  68.  32.  26.  57.  38.\n",
            "  55.  66.  39.  44.  28.  34.  56.  36.  42.  41.]\n",
            "Уникальные значения в столбце Annual Income (k$): [1.50e+01      nan 1.60e+01 1.70e+01 1.80e+01 1.90e+01 2.00e+01 2.10e+01\n",
            " 2.30e+01 2.40e+01 2.50e+01 2.80e+01 2.90e+01 3.00e+01 3.30e+01 3.40e+01\n",
            " 3.70e+01 3.80e+01 3.90e+01 4.00e+01 4.20e+01 4.30e+01 4.40e+01 4.60e+01\n",
            " 4.70e+01 4.80e+01 4.90e+01 5.00e+01 5.40e+01 5.70e+01 5.80e+01 5.90e+01\n",
            " 6.00e+01 6.10e+01 6.20e+01 6.30e+01 6.40e+01 6.50e+01 6.70e+01 6.90e+01\n",
            " 7.00e+01 7.10e+01 7.20e+01 7.30e+01 7.40e+01 7.50e+01 7.60e+01 7.70e+01\n",
            " 7.80e+01 1.00e+06 7.90e+01 8.10e+01 8.50e+01 8.60e+01 8.70e+01 8.80e+01\n",
            " 9.30e+01 9.70e+01 9.80e+01 9.90e+01 1.03e+02 1.13e+02 1.20e+02 1.26e+02\n",
            " 1.37e+02]\n",
            "Уникальные значения в столбце Spending Score (1-100): [39 81  6 77 40 76 94  3 72 14 99 15 13 79 35 66 29 98 73  5 82 32 61 31\n",
            " 87  4 92 17 26 75 36 28 65 55 47 42 52 60 54 45 41 50 46 51 56 59 48 49\n",
            " 53 44 57 58 43 91 95 11  9 34 71 88  7 10 93 12 97 74 22 90 20 16 89  1\n",
            " 78 83 27 63 86 69 24 68 85 23  8 18]\n"
          ]
        }
      ],
      "source": [
        "# Предварительная проверка уникальных значений в каждом столбце\n",
        "for column in df.columns:\n",
        "    unique_values = df[column].unique()\n",
        "    print(f'Уникальные значения в столбце {column}: {unique_values}')"
      ]
    },
    {
      "cell_type": "code",
      "execution_count": 8,
      "metadata": {},
      "outputs": [],
      "source": [
        "# Сразу преобразуем все аномальные значения\n",
        "df['Gender'] = df['Gender'].replace({'Feemale': 'Female'})  # Исправление опечатки\n",
        "df['Gender'] = df['Gender'].fillna('Unknown')  # Замена пропусков на 'Unknown'"
      ]
    },
    {
      "cell_type": "code",
      "execution_count": 9,
      "metadata": {},
      "outputs": [
        {
          "name": "stdout",
          "output_type": "stream",
          "text": [
            "0   15.000\n",
            "1      NaN\n",
            "2   16.000\n",
            "3   16.000\n",
            "4   17.000\n",
            "Name: Annual Income (k$), dtype: float64\n"
          ]
        }
      ],
      "source": [
        "# Установить формат отображения чисел\n",
        "pd.options.display.float_format = '{:,.3f}'.format\n",
        "df['Annual Income (k$)'] = df['Annual Income (k$)'].astype(float)\n",
        "print(df['Annual Income (k$)'].head())"
      ]
    },
    {
      "cell_type": "code",
      "execution_count": 10,
      "metadata": {},
      "outputs": [
        {
          "data": {
            "image/png": "[encoded data removed]",
            "text/plain": [
              "<Figure size 1000x800 with 4 Axes>"
            ]
          },
          "metadata": {},
          "output_type": "display_data"
        }
      ],
      "source": [
        "# Гистограммы для числовых признаков\n",
        "df.hist(bins=20, figsize=(10, 8))\n",
        "plt.tight_layout()\n",
        "plt.show()"
      ]
    },
    {
      "cell_type": "markdown",
      "metadata": {
        "id": "f2D8MlDlHvL4"
      },
      "source": [
        "### Задание 3\n",
        "\n",
        "Разделите данные на обучающую и тестовую выборки в пропорции 80:20. Здесь и далее используйте random_state = 1."
      ]
    },
    {
      "cell_type": "code",
      "execution_count": 11,
      "metadata": {
        "id": "7YwL8vOzICNY"
      },
      "outputs": [
        {
          "name": "stdout",
          "output_type": "stream",
          "text": [
            "Размер обучающей выборки: (160, 3)\n",
            "Размер тестовой выборки: (40, 3)\n"
          ]
        }
      ],
      "source": [
        "from sklearn.model_selection import train_test_split\n",
        "# Разделение на признаки (X) и целевую переменную (y)\n",
        "X = df.drop(columns=['Spending Score (1-100)']) # Cоздаем новую переменную X, которая содержит все столбцы из датафрейма df, кроме столбца 'Spending Score (1-100)'\n",
        "y = df['Spending Score (1-100)']\n",
        "\n",
        "# Разделение данных на обучающую и тестовую выборки (80%/20%)\n",
        "X_train, X_test, y_train, y_test = train_test_split(X, y, test_size=0.2, random_state=1)\n",
        "\n",
        "# Проверка форматов данных\n",
        "print(f\"Размер обучающей выборки: {X_train.shape}\")\n",
        "print(f\"Размер тестовой выборки: {X_test.shape}\")\n"
      ]
    },
    {
      "cell_type": "markdown",
      "metadata": {
        "id": "pmzNU3XqICuX"
      },
      "source": [
        "### Задание 4\n",
        "\n",
        "Заполните пропуски в признаках в обучающей выборке с использованием инструментов sklearn. Для каждого признака выберите и аргументируйте стратегию заполнения пропусков."
      ]
    },
    {
      "cell_type": "code",
      "execution_count": 12,
      "metadata": {
        "id": "wM-cN8q8IZVe"
      },
      "outputs": [
        {
          "name": "stdout",
          "output_type": "stream",
          "text": [
            "Gender                0\n",
            "Age                   0\n",
            "Annual Income (k$)    0\n",
            "dtype: int64\n"
          ]
        }
      ],
      "source": [
        "from sklearn.impute import SimpleImputer\n",
        "# Для числовых признаков (возраст, годовой доход)\n",
        "numeric_imputer = SimpleImputer(strategy='median')\n",
        "X_train[['Age', 'Annual Income (k$)']] = numeric_imputer.fit_transform(X_train[['Age', 'Annual Income (k$)']])\n",
        "# Для категориальных признаков (возраст)\n",
        "categorical_imputer = SimpleImputer(strategy='most_frequent')\n",
        "X_train['Gender'] = categorical_imputer.fit_transform(X_train['Gender'].values.reshape(-1, 1)).ravel()\n",
        "# Проверка, что пропусков больше нет\n",
        "print(X_train.isnull().sum())\n"
      ]
    },
    {
      "cell_type": "markdown",
      "metadata": {},
      "source": [
        "Age и Annual Income (k$): Медиана является устойчивой к выбросам и лучше отражает центральное положение данных, особенно если в признаке наблюдаются аномальные значения.\n",
        "\n",
        "  Genre: Для категориального признака разумно использовать моду, так как это минимизирует влияние отсутствующих данных и сохраняет распределение категорий."
      ]
    },
    {
      "cell_type": "code",
      "execution_count": 13,
      "metadata": {},
      "outputs": [
        {
          "data": {
            "text/html": [
              "<div>\n",
              "<style scoped>\n",
              "    .dataframe tbody tr th:only-of-type {\n",
              "        vertical-align: middle;\n",
              "    }\n",
              "\n",
              "    .dataframe tbody tr th {\n",
              "        vertical-align: top;\n",
              "    }\n",
              "\n",
              "    .dataframe thead th {\n",
              "        text-align: right;\n",
              "    }\n",
              "</style>\n",
              "<table border=\"1\" class=\"dataframe\">\n",
              "  <thead>\n",
              "    <tr style=\"text-align: right;\">\n",
              "      <th></th>\n",
              "      <th>Gender</th>\n",
              "      <th>Age</th>\n",
              "      <th>Annual Income (k$)</th>\n",
              "      <th>Spending Score (1-100)</th>\n",
              "    </tr>\n",
              "  </thead>\n",
              "  <tbody>\n",
              "    <tr>\n",
              "      <th>0</th>\n",
              "      <td>Male</td>\n",
              "      <td>19.000</td>\n",
              "      <td>15.000</td>\n",
              "      <td>39</td>\n",
              "    </tr>\n",
              "    <tr>\n",
              "      <th>1</th>\n",
              "      <td>Male</td>\n",
              "      <td>NaN</td>\n",
              "      <td>NaN</td>\n",
              "      <td>81</td>\n",
              "    </tr>\n",
              "    <tr>\n",
              "      <th>2</th>\n",
              "      <td>Female</td>\n",
              "      <td>NaN</td>\n",
              "      <td>16.000</td>\n",
              "      <td>6</td>\n",
              "    </tr>\n",
              "    <tr>\n",
              "      <th>3</th>\n",
              "      <td>Female</td>\n",
              "      <td>23.000</td>\n",
              "      <td>16.000</td>\n",
              "      <td>77</td>\n",
              "    </tr>\n",
              "    <tr>\n",
              "      <th>4</th>\n",
              "      <td>Female</td>\n",
              "      <td>31.000</td>\n",
              "      <td>17.000</td>\n",
              "      <td>40</td>\n",
              "    </tr>\n",
              "  </tbody>\n",
              "</table>\n",
              "</div>"
            ],
            "text/plain": [
              "   Gender    Age  Annual Income (k$)  Spending Score (1-100)\n",
              "0    Male 19.000              15.000                      39\n",
              "1    Male    NaN                 NaN                      81\n",
              "2  Female    NaN              16.000                       6\n",
              "3  Female 23.000              16.000                      77\n",
              "4  Female 31.000              17.000                      40"
            ]
          },
          "execution_count": 13,
          "metadata": {},
          "output_type": "execute_result"
        }
      ],
      "source": [
        "df.head()"
      ]
    },
    {
      "cell_type": "markdown",
      "metadata": {
        "id": "dG06N3kJIZ9A"
      },
      "source": [
        "### Задание 5\n",
        "\n",
        "Найдите выбросы в признаках обучающей выборки. Замените выбросы, если таковые имеются, и аргументируйте выбор метода поиска выбросов.\n"
      ]
    },
    {
      "cell_type": "code",
      "execution_count": 14,
      "metadata": {
        "id": "TTcePy4bI1ab"
      },
      "outputs": [
        {
          "name": "stdout",
          "output_type": "stream",
          "text": [
            "Аномальные значения возраста:\n",
            "    Gender     Age  Annual Income (k$)\n",
            "6  Unknown 135.000              18.000\n",
            "8     Male 135.000              19.000\n"
          ]
        }
      ],
      "source": [
        "# Определяем аномальные значения в возрасте\n",
        "anomalous_ages = X_train[X_train['Age'] > 120]\n",
        "print(\"Аномальные значения возраста:\")\n",
        "print(anomalous_ages)\n"
      ]
    },
    {
      "cell_type": "code",
      "execution_count": 15,
      "metadata": {},
      "outputs": [
        {
          "name": "stdout",
          "output_type": "stream",
          "text": [
            "Empty DataFrame\n",
            "Columns: [Gender, Age, Annual Income (k$)]\n",
            "Index: []\n"
          ]
        }
      ],
      "source": [
        "# Находим моду для возраста\n",
        "mode_age = X_train['Age'].mode()[0]\n",
        "\n",
        "# Заменяем аномальные значения на моду\n",
        "X_train.loc[X_train['Age'] > 90, 'Age'] = mode_age\n",
        "\n",
        "# Проверяем, что аномальные значения были заменены\n",
        "print(X_train[X_train['Age'] > 90])"
      ]
    },
    {
      "cell_type": "markdown",
      "metadata": {},
      "source": [
        "При обработке аномальных значений для признака, такого как годовой доход, важно учитывать контекст и понимание данных: сложно принять решение (по удалению или замене) т.к. про возраст точно кто-то пошутил или ошибся, а доход может быть аномально высоким."
      ]
    },
    {
      "cell_type": "code",
      "execution_count": 16,
      "metadata": {},
      "outputs": [
        {
          "data": {
            "image/png": "[encoded data removed]",
            "text/plain": [
              "<Figure size 800x400 with 1 Axes>"
            ]
          },
          "metadata": {},
          "output_type": "display_data"
        }
      ],
      "source": [
        "import matplotlib.pyplot as plt\n",
        "import seaborn as sns\n",
        "import numpy as np\n",
        "\n",
        "plt.figure(figsize=(8, 4))\n",
        "\n",
        "# Создание boxplot\n",
        "ax = sns.boxplot(x=X_train['Annual Income (k$)'])\n",
        "\n",
        "# Вычисление медианы и моды\n",
        "median_income = X_train['Annual Income (k$)'].median()\n",
        "mode_income = X_train['Annual Income (k$)'].mode()[0]  # Используем первый элемент, если несколько мод\n",
        "\n",
        "# Установка границ оси X\n",
        "plt.xlim(left=0, right=200)  # Настройте границы по вашему усмотрению\n",
        "\n",
        "# Аннотация для медианы\n",
        "ax.annotate(f'Median: {median_income:.2f}', xy=(median_income, 0.5),\n",
        "            xytext=(median_income + 10, 1),\n",
        "            arrowprops=dict(arrowstyle='->', lw=1.5),\n",
        "            fontsize=12, color='blue')\n",
        "\n",
        "# Аннотация для моды\n",
        "ax.annotate(f'Mode: {mode_income:.2f}', xy=(mode_income, 0.5),\n",
        "            xytext=(mode_income + 10, 1.5),\n",
        "            arrowprops=dict(arrowstyle='->', lw=1.5),\n",
        "            fontsize=12, color='orange')\n",
        "\n",
        "# Заголовок и подписи\n",
        "plt.title('Распределение годового дохода')\n",
        "plt.xlabel('Годовой доход (k$)')\n",
        "plt.ylabel('Частота')\n",
        "plt.grid(True)\n",
        "\n",
        "plt.show()"
      ]
    },
    {
      "cell_type": "code",
      "execution_count": 17,
      "metadata": {},
      "outputs": [
        {
          "name": "stdout",
          "output_type": "stream",
          "text": [
            "     CustomerID   Genre    Age  Annual Income (k$)  Spending Score (1-100)\n",
            "55           56    Male 47.000              43.000                      41\n",
            "182         183    Male 46.000                 NaN                      15\n",
            "93           94  Female 40.000              60.000                      40\n",
            "156         157    Male 37.000       1,000,000.000                       1\n",
            "31           32  Female 21.000                 NaN                      73\n",
            "123         124     NaN 39.000                 NaN                      91\n",
            "86           87  Female 55.000              57.000                      58\n"
          ]
        }
      ],
      "source": [
        "# Загрузка исходных данных\n",
        "import pandas as pd\n",
        "\n",
        "# Чтение файла с помощью pandas\n",
        "df_original = pd.read_csv('Mall_Customers(1).csv')\n",
        "\n",
        "# Вывод случайной выборки из 7 строк\n",
        "print(df_original.sample(7))\n"
      ]
    },
    {
      "cell_type": "code",
      "execution_count": 18,
      "metadata": {},
      "outputs": [],
      "source": [
        "# Исправляем опечатку\n",
        "df_original.rename(columns={'Genre': 'Gender'}, inplace=True)"
      ]
    },
    {
      "cell_type": "code",
      "execution_count": 19,
      "metadata": {},
      "outputs": [
        {
          "name": "stdout",
          "output_type": "stream",
          "text": [
            "Количество клиентов с аномально высоким доходом: 12\n",
            "Количество отсутствующих значений в Gender: 2\n",
            "Процент отсутствующих значений в Gender среди клиентов с высоким доходом: 16.67%\n"
          ]
        }
      ],
      "source": [
        "# Установка порогового значения для аномально высокого дохода\n",
        "high_income_threshold = 100  # например, 100k$, можно изменить по необходимости\n",
        "\n",
        "# Фильтрация данных по условию\n",
        "high_income_data = df_original[df_original['Annual Income (k$)'] > high_income_threshold]\n",
        "\n",
        "# Проверка на наличие отсутствующих значений в Gender среди клиентов с аномально высоким доходом\n",
        "missing_gender_high_income = high_income_data['Gender'].isnull().sum()\n",
        "\n",
        "# Проверка общего количества клиентов с аномально высоким доходом\n",
        "total_high_income_count = high_income_data.shape[0]\n",
        "\n",
        "# Расчет процента клиентов с отсутствующими значениями в Gender\n",
        "percentage_missing_gender = (missing_gender_high_income / total_high_income_count) * 100 if total_high_income_count > 0 else 0\n",
        "\n",
        "print(f\"Количество клиентов с аномально высоким доходом: {total_high_income_count}\")\n",
        "print(f\"Количество отсутствующих значений в Gender: {missing_gender_high_income}\")\n",
        "print(f\"Процент отсутствующих значений в Gender среди клиентов с высоким доходом: {percentage_missing_gender:.2f}%\")"
      ]
    },
    {
      "cell_type": "code",
      "execution_count": 20,
      "metadata": {},
      "outputs": [
        {
          "name": "stdout",
          "output_type": "stream",
          "text": [
            "Количество клиентов с аномально высоким доходом и возрастом старше 90 лет: 0\n",
            "Empty DataFrame\n",
            "Columns: [Gender, Age, Annual Income (k$)]\n",
            "Index: []\n"
          ]
        }
      ],
      "source": [
        "# Установка порогового значения для аномально высокого дохода\n",
        "high_income_threshold = 100  # Например, 100k$\n",
        "\n",
        "# Фильтрация данных по условию\n",
        "high_income_over_90 = df_original[(df_original['Annual Income (k$)'] > high_income_threshold) & (df_original['Age'] > 90)]\n",
        "\n",
        "# Проверка количества клиентов\n",
        "count_high_income_over_90 = high_income_over_90.shape[0]\n",
        "\n",
        "print(f\"Количество клиентов с аномально высоким доходом и возрастом старше 90 лет: {count_high_income_over_90}\")\n",
        "print(high_income_over_90[['Gender', 'Age', 'Annual Income (k$)']])  # Выводим информацию о таких клиентах"
      ]
    },
    {
      "cell_type": "markdown",
      "metadata": {
        "id": "4iZFKDQ7I2LZ"
      },
      "source": [
        "### Задание 6\n",
        "\n",
        "Нормализуйте численные признаки. Аргументируйте выбор стратегии нормализации для каждого признака.\n"
      ]
    },
    {
      "cell_type": "code",
      "execution_count": 21,
      "metadata": {
        "id": "gSLKHnlYI-bf"
      },
      "outputs": [
        {
          "name": "stdout",
          "output_type": "stream",
          "text": [
            "count   160.000\n",
            "mean     38.126\n",
            "std      12.411\n",
            "min      19.000\n",
            "25%      30.000\n",
            "50%      37.000\n",
            "75%      47.000\n",
            "max      63.150\n",
            "Name: Age, dtype: float64\n"
          ]
        },
        {
          "data": {
            "image/png": "[encoded data removed]",
            "text/plain": [
              "<Figure size 800x600 with 1 Axes>"
            ]
          },
          "metadata": {},
          "output_type": "display_data"
        }
      ],
      "source": [
        "import pandas as pd\n",
        "import seaborn as sns\n",
        "import matplotlib.pyplot as plt\n",
        "\n",
        "# Предположим, что X_train уже загружен и содержит столбец 'Age'\n",
        "\n",
        "# Проверка на наличие пропусков\n",
        "if X_train['Age'].isnull().sum() > 0:\n",
        "    print(\"В данных есть пропуски в столбце 'Age'. Рекомендуется заполнить их перед обработкой выбросов.\")\n",
        "\n",
        "# Определение нижней и верхней границ выбросов с помощью квантилей\n",
        "lower_bound_age = X_train['Age'].quantile(0.05)  # 5-й процентиль\n",
        "upper_bound_age = X_train['Age'].quantile(0.95)  # 95-й процентиль\n",
        "\n",
        "# Замена значений ниже 5-го и выше 95-го процентилей на соответствующие квантильные значения\n",
        "X_train.loc[X_train['Age'] < lower_bound_age, 'Age'] = lower_bound_age\n",
        "X_train.loc[X_train['Age'] > upper_bound_age, 'Age'] = upper_bound_age\n",
        "\n",
        "# Проверка результата\n",
        "print(X_train['Age'].describe())\n",
        "\n",
        "# Визуализация распределения возраста после обработки\n",
        "plt.figure(figsize=(8, 6))\n",
        "sns.histplot(X_train['Age'], bins=30, kde=True, color='green')\n",
        "plt.title('Распределение возраста (после обработки выбросов с quantile)')\n",
        "plt.xlabel('Возраст')\n",
        "plt.ylabel('Частота')\n",
        "plt.show()\n"
      ]
    },
    {
      "cell_type": "markdown",
      "metadata": {},
      "source": [
        "1. Метод Winsorizing заменяет аномальные значения на определенный процентиль, что позволяет сохранить информацию о них, но уменьшает их влияние.\n",
        "\n",
        "Подход:\n",
        "Заменить значения выше 95-го или 99-го процентиля на значения в этом процентиле.\n",
        "Это позволит сохранить информацию о клиентах с высокими доходами, не влияя на модель.\n",
        "\n",
        "2. Использование логарифмической трансформации\n",
        "Логарифмическая трансформация может помочь уменьшить влияние выбросов, так как она сжимает диапазон значений.\n",
        "\n",
        "Подход:\n",
        "Примените логарифмическую трансформацию к годовым доходам.\n",
        "Это сделает распределение более симметричным и снизит влияние высоких значений."
      ]
    },
    {
      "cell_type": "code",
      "execution_count": 22,
      "metadata": {},
      "outputs": [
        {
          "name": "stdout",
          "output_type": "stream",
          "text": [
            "count   160.000\n",
            "mean     59.806\n",
            "std      22.526\n",
            "min      15.000\n",
            "25%      46.750\n",
            "50%      62.000\n",
            "75%      75.000\n",
            "max     103.000\n",
            "Name: Annual Income (k$), dtype: float64\n"
          ]
        }
      ],
      "source": [
        "# Определение 95-го процентиля для годового дохода\n",
        "income_upper_limit = X_train['Annual Income (k$)'].quantile(0.95)\n",
        "\n",
        "# Замена значений выше 95-го процентиля на это значение\n",
        "X_train.loc[X_train['Annual Income (k$)'] > income_upper_limit, 'Annual Income (k$)'] = income_upper_limit\n",
        "\n",
        "# Проверка результата\n",
        "print(X_train['Annual Income (k$)'].describe())"
      ]
    },
    {
      "cell_type": "code",
      "execution_count": 23,
      "metadata": {},
      "outputs": [
        {
          "data": {
            "image/png": "[encoded data removed]",
            "text/plain": [
              "<Figure size 800x600 with 1 Axes>"
            ]
          },
          "metadata": {},
          "output_type": "display_data"
        }
      ],
      "source": [
        "import pandas as pd\n",
        "import seaborn as sns\n",
        "import matplotlib.pyplot as plt\n",
        "\n",
        "\n",
        "# Определение 95-го процентиля для годового дохода\n",
        "income_upper_limit = X_train['Annual Income (k$)'].quantile(0.95)\n",
        "\n",
        "# Замена значений выше 95-го процентиля на это значение\n",
        "X_train.loc[X_train['Annual Income (k$)'] > income_upper_limit, 'Annual Income (k$)'] = income_upper_limit\n",
        "\n",
        "# Настройка стиля\n",
        "sns.set(style='whitegrid')\n",
        "\n",
        "plt.figure(figsize=(8, 6))\n",
        "\n",
        "# График распределения годового дохода после нормализации\n",
        "sns.histplot(X_train['Annual Income (k$)'], bins=30, kde=True, color='blue')\n",
        "plt.title('Распределение годового дохода (после нормализации)')\n",
        "plt.xlabel('Годовой доход (k$)')\n",
        "plt.ylabel('Частота')\n",
        "\n",
        "plt.tight_layout()\n",
        "plt.show()"
      ]
    },
    {
      "cell_type": "markdown",
      "metadata": {},
      "source": [
        "Основные Scaler-методы:    \n",
        "StandardScaler: Приводит данные к распределению с нулевым средним и стандартным отклонением 1 (полезно для данных с нормальным распределением).    \n",
        "MinMaxScaler: Преобразует данные в диапазон [0, 1] (полезно для данных, где есть фиксированные минимальные и максимальные границы).    \n",
        "\n",
        "Как выбрать Scaler:    \n",
        "- Если у данных нет строгого нормального распределения, MinMaxScaler может быть предпочтительным, так как он не предполагает определенного распределения.    \n",
        "- Если данные приблизительно нормальны, StandardScaler лучше нормализует их с точки зрения среднего и дисперсии."
      ]
    },
    {
      "cell_type": "code",
      "execution_count": 24,
      "metadata": {},
      "outputs": [
        {
          "name": "stdout",
          "output_type": "stream",
          "text": [
            "          Age  Annual Income (k$)\n",
            "count 160.000             160.000\n",
            "mean   -0.000               0.000\n",
            "std     1.003               1.003\n",
            "min    -1.546              -1.995\n",
            "25%    -0.657              -0.581\n",
            "50%    -0.091               0.098\n",
            "75%     0.717               0.677\n",
            "max     2.023               1.923\n"
          ]
        },
        {
          "data": {
            "image/png": "[encoded data removed]",
            "text/plain": [
              "<Figure size 800x600 with 1 Axes>"
            ]
          },
          "metadata": {},
          "output_type": "display_data"
        }
      ],
      "source": [
        "from sklearn.preprocessing import StandardScaler\n",
        "import pandas as pd\n",
        "import seaborn as sns\n",
        "import matplotlib.pyplot as plt\n",
        "\n",
        "# Создаем экземпляр StandardScaler\n",
        "scaler = StandardScaler()\n",
        "\n",
        "# Применяем масштабирование только к числовым признакам (например, 'Age' и 'Annual Income (k$)')\n",
        "X_train[['Age', 'Annual Income (k$)']] = scaler.fit_transform(X_train[['Age', 'Annual Income (k$)']])\n",
        "\n",
        "# Проверяем результаты\n",
        "print(X_train[['Age', 'Annual Income (k$)']].describe())\n",
        "\n",
        "# Визуализация масштабированных данных\n",
        "plt.figure(figsize=(8, 6))\n",
        "sns.histplot(X_train['Age'], bins=30, kde=True, color='blue', label='Age')\n",
        "sns.histplot(X_train['Annual Income (k$)'], bins=30, kde=True, color='orange', label='Annual Income')\n",
        "plt.title('Масштабированные данные (Age и Annual Income)')\n",
        "plt.xlabel('Значение')\n",
        "plt.ylabel('Частота')\n",
        "plt.legend()\n",
        "plt.show()"
      ]
    },
    {
      "cell_type": "markdown",
      "metadata": {
        "id": "MwEFsRNnI_Ar"
      },
      "source": [
        "### Задание 7\n",
        "\n",
        "Закодируйте категориальные признаки в обучающей выборке. Аргументируйте выбор способа кодирования."
      ]
    },
    {
      "cell_type": "code",
      "execution_count": 25,
      "metadata": {
        "id": "Ypo6y1iMJHeL"
      },
      "outputs": [
        {
          "name": "stdout",
          "output_type": "stream",
          "text": [
            "Index(['Gender', 'Age', 'Annual Income (k$)'], dtype='object')\n"
          ]
        }
      ],
      "source": [
        "print(X_train.columns)\n"
      ]
    },
    {
      "cell_type": "code",
      "execution_count": 26,
      "metadata": {},
      "outputs": [
        {
          "name": "stdout",
          "output_type": "stream",
          "text": [
            "['Male' 'Female' 'Unknown']\n",
            "          Age  Annual Income (k$)\n",
            "count 180.000             180.000\n",
            "mean   39.894           5,615.433\n",
            "std    16.843          74,531.116\n",
            "min    18.000              15.000\n",
            "25%    29.000              42.000\n",
            "50%    36.000              61.000\n",
            "75%    49.000              78.000\n",
            "max   135.000       1,000,000.000\n"
          ]
        }
      ],
      "source": [
        "# Проверка уникальных значений в Gender\n",
        "print(df['Gender'].unique())\n",
        "\n",
        "# Проверка значений в Age и Annual Income\n",
        "print(df[['Age', 'Annual Income (k$)']].describe())"
      ]
    },
    {
      "cell_type": "code",
      "execution_count": 27,
      "metadata": {},
      "outputs": [
        {
          "name": "stdout",
          "output_type": "stream",
          "text": [
            "['Male' 'Female' 'Unknown']\n"
          ]
        }
      ],
      "source": [
        "# Замена опечатки и пропусков\n",
        "df['Gender'] = df['Gender'].replace({'Feemale': 'Female', np.nan: 'Female'})\n",
        "# Проверка уникальных значений после замены\n",
        "print(df['Gender'].unique())"
      ]
    },
    {
      "cell_type": "code",
      "execution_count": 28,
      "metadata": {},
      "outputs": [
        {
          "name": "stdout",
          "output_type": "stream",
          "text": [
            "     Gender    Age  Annual Income (k$)\n",
            "108       1  2.023               0.142\n",
            "107       1  1.283               0.142\n",
            "189       0 -0.172               1.923\n",
            "14        1 -0.091              -1.773\n",
            "56        0  1.041              -0.704\n",
            "Gender                0\n",
            "Age                   0\n",
            "Annual Income (k$)    0\n",
            "dtype: int64\n"
          ]
        }
      ],
      "source": [
        "from sklearn.impute import SimpleImputer\n",
        "import numpy as np\n",
        "\n",
        "# Заменяем значения \"Unknown\" на NaN с использованием mask\n",
        "X_train['Gender'] = X_train['Gender'].mask(X_train['Gender'] == 'Unknown', np.nan)\n",
        "\n",
        "# Создание экземпляра SimpleImputer для заполнения NaN в категориальных данных\n",
        "categorical_imputer = SimpleImputer(strategy='most_frequent')\n",
        "\n",
        "# Заполнение пропусков в колонке 'Gender'\n",
        "X_train['Gender'] = categorical_imputer.fit_transform(X_train[['Gender']]).flatten()\n",
        "\n",
        "# Преобразование значений 'Gender' в бинарные\n",
        "X_train['Gender'] = X_train['Gender'].replace({'Male': 1, 'Female': 0})\n",
        "\n",
        "# Проверка результата\n",
        "print(X_train[['Gender', 'Age', 'Annual Income (k$)']].head())\n",
        "print(X_train.isnull().sum())  # Проверка на наличие NaN"
      ]
    },
    {
      "cell_type": "code",
      "execution_count": 29,
      "metadata": {},
      "outputs": [
        {
          "name": "stdout",
          "output_type": "stream",
          "text": [
            "Количество пропусков в каждом признаке:\n",
            "Gender                0\n",
            "Age                   0\n",
            "Annual Income (k$)    0\n",
            "dtype: int64\n"
          ]
        }
      ],
      "source": [
        "# Откуда-то берутся NaN (уже после обработки и замены значений)\n",
        "# Проверка количества пропусков в каждом признаке\n",
        "# Проверка количества пропусков в каждом признаке\n",
        "missing_values = X_train.isnull().sum()\n",
        "print(\"Количество пропусков в каждом признаке:\")\n",
        "print(missing_values)"
      ]
    },
    {
      "cell_type": "code",
      "execution_count": 30,
      "metadata": {},
      "outputs": [
        {
          "name": "stdout",
          "output_type": "stream",
          "text": [
            "     Gender    Age  Annual Income (k$)\n",
            "108       1  2.023               0.142\n",
            "107       1  1.283               0.142\n",
            "189       0 -0.172               1.923\n",
            "14        1 -0.091              -1.773\n",
            "56        0  1.041              -0.704\n",
            "Gender                0\n",
            "Age                   0\n",
            "Annual Income (k$)    0\n",
            "dtype: int64\n"
          ]
        }
      ],
      "source": [
        "# Проверка результата\n",
        "print(X_train[['Gender', 'Age', 'Annual Income (k$)']].head())\n",
        "print(X_train.isnull().sum())  # Проверка на наличие NaN"
      ]
    },
    {
      "cell_type": "code",
      "execution_count": 31,
      "metadata": {},
      "outputs": [
        {
          "name": "stdout",
          "output_type": "stream",
          "text": [
            "Уникальные значения в столбце Gender: [1 0]\n",
            "Уникальные значения в столбце Age: [ 2.0226112   1.28303809 -0.17185982 -0.09103215  1.04055511 -0.25268748\n",
            " -1.54593006 -1.4651024  -0.65682579 -1.22261942  0.79807212  0.07062317\n",
            "  0.95972745  1.6871764  -0.49517046 -1.30344708  0.15145083 -1.38427474\n",
            " -0.73765345  0.39393382 -0.33351514  0.31310615  1.60634874  0.87889979\n",
            " -0.89930877  0.71724446 -0.01020449 -1.14179176 -1.06096409 -0.81848111\n",
            " -0.98013643  0.47476148 -0.4143428   1.44469342  1.20221043  0.6364168\n",
            " -0.57599812  0.23227849  2.01048705  1.52552108  0.55558914  1.76800406\n",
            "  1.36386576]\n",
            "Уникальные значения в столбце Annual Income (k$): [ 0.14222302  1.92348985 -1.77263882 -0.70387872 -1.63904381  0.23128636\n",
            "  0.09769135  1.74536317  0.45394472  0.05315968  0.32034971 -0.74841039\n",
            " -1.1937271   1.47817315  1.65629983 -0.52575204 -0.25856201 -0.92653707\n",
            " -1.72810715 -1.90623383  0.49847639  1.7008315   0.81019808  1.16645145\n",
            "  0.18675469  0.00862801 -0.03590366  0.40941305  0.54300806 -1.14919543\n",
            "  0.85472975  1.21098312 -1.59451213 -1.9507655  -0.48122037 -1.86170216\n",
            " -1.99529717 -0.08043533 -0.57028371  0.76566641 -0.124967   -1.81717049\n",
            " -1.54998046  0.58753973 -0.97106874  0.9437931  -1.41638545 -0.8820054\n",
            " -1.32732211  1.25551479 -0.61481538  0.67660307 -0.79294206  0.72113474\n",
            "  0.6320714  -0.4366887 ]\n"
          ]
        }
      ],
      "source": [
        "for column in X_train.columns:\n",
        "    unique_values = X_train[column].unique()\n",
        "    print(f'Уникальные значения в столбце {column}: {unique_values}')"
      ]
    },
    {
      "cell_type": "code",
      "execution_count": 32,
      "metadata": {},
      "outputs": [
        {
          "data": {
            "text/html": [
              "<div>\n",
              "<style scoped>\n",
              "    .dataframe tbody tr th:only-of-type {\n",
              "        vertical-align: middle;\n",
              "    }\n",
              "\n",
              "    .dataframe tbody tr th {\n",
              "        vertical-align: top;\n",
              "    }\n",
              "\n",
              "    .dataframe thead th {\n",
              "        text-align: right;\n",
              "    }\n",
              "</style>\n",
              "<table border=\"1\" class=\"dataframe\">\n",
              "  <thead>\n",
              "    <tr style=\"text-align: right;\">\n",
              "      <th></th>\n",
              "      <th>Gender</th>\n",
              "      <th>Age</th>\n",
              "      <th>Annual Income (k$)</th>\n",
              "    </tr>\n",
              "  </thead>\n",
              "  <tbody>\n",
              "    <tr>\n",
              "      <th>50</th>\n",
              "      <td>0</td>\n",
              "      <td>0.879</td>\n",
              "      <td>-0.793</td>\n",
              "    </tr>\n",
              "    <tr>\n",
              "      <th>169</th>\n",
              "      <td>1</td>\n",
              "      <td>-0.495</td>\n",
              "      <td>1.211</td>\n",
              "    </tr>\n",
              "    <tr>\n",
              "      <th>123</th>\n",
              "      <td>0</td>\n",
              "      <td>0.071</td>\n",
              "      <td>0.098</td>\n",
              "    </tr>\n",
              "    <tr>\n",
              "      <th>70</th>\n",
              "      <td>1</td>\n",
              "      <td>-0.091</td>\n",
              "      <td>-0.481</td>\n",
              "    </tr>\n",
              "    <tr>\n",
              "      <th>137</th>\n",
              "      <td>1</td>\n",
              "      <td>-0.495</td>\n",
              "      <td>0.588</td>\n",
              "    </tr>\n",
              "    <tr>\n",
              "      <th>115</th>\n",
              "      <td>0</td>\n",
              "      <td>-1.546</td>\n",
              "      <td>0.231</td>\n",
              "    </tr>\n",
              "    <tr>\n",
              "      <th>79</th>\n",
              "      <td>0</td>\n",
              "      <td>0.879</td>\n",
              "      <td>-0.259</td>\n",
              "    </tr>\n",
              "  </tbody>\n",
              "</table>\n",
              "</div>"
            ],
            "text/plain": [
              "     Gender    Age  Annual Income (k$)\n",
              "50        0  0.879              -0.793\n",
              "169       1 -0.495               1.211\n",
              "123       0  0.071               0.098\n",
              "70        1 -0.091              -0.481\n",
              "137       1 -0.495               0.588\n",
              "115       0 -1.546               0.231\n",
              "79        0  0.879              -0.259"
            ]
          },
          "execution_count": 32,
          "metadata": {},
          "output_type": "execute_result"
        }
      ],
      "source": [
        "X_train.sample(7)"
      ]
    },
    {
      "cell_type": "markdown",
      "metadata": {
        "id": "mT9hsPltJJ2z"
      },
      "source": [
        "### Задание 8\n",
        "Проведите очистку и подготовку тестовых данных. Используйте препроцессоры и другие инструменты, которые вы уже использовали при подготовке обучающей выборки, без их дополнительной настройки."
      ]
    },
    {
      "cell_type": "code",
      "execution_count": 33,
      "metadata": {
        "id": "swiT9IQlziSs"
      },
      "outputs": [
        {
          "name": "stdout",
          "output_type": "stream",
          "text": [
            "Gender                0\n",
            "Age                   0\n",
            "Annual Income (k$)    0\n",
            "dtype: int64\n"
          ]
        }
      ],
      "source": [
        "from sklearn.impute import SimpleImputer\n",
        "# Для числовых признаков (возраст, годовой доход)\n",
        "numeric_imputer = SimpleImputer(strategy='median')\n",
        "X_test[['Age', 'Annual Income (k$)']] = numeric_imputer.fit_transform(X_test[['Age', 'Annual Income (k$)']])\n",
        "# Для категориальных признаков (возраст)\n",
        "categorical_imputer = SimpleImputer(strategy='most_frequent')\n",
        "X_test['Gender'] = categorical_imputer.fit_transform(X_test['Gender'].values.reshape(-1, 1)).ravel()\n",
        "# Проверка, что пропусков больше нет\n",
        "print(X_test.isnull().sum())\n"
      ]
    },
    {
      "cell_type": "code",
      "execution_count": 34,
      "metadata": {},
      "outputs": [
        {
          "name": "stdout",
          "output_type": "stream",
          "text": [
            "Аномальные значения возраста:\n",
            "Empty DataFrame\n",
            "Columns: [Gender, Age, Annual Income (k$)]\n",
            "Index: []\n"
          ]
        }
      ],
      "source": [
        "# Определяем аномальные значения в возрасте\n",
        "anomalous_ages = X_test[X_test['Age'] > 120]\n",
        "print(\"Аномальные значения возраста:\")\n",
        "print(anomalous_ages)"
      ]
    },
    {
      "cell_type": "code",
      "execution_count": 35,
      "metadata": {},
      "outputs": [
        {
          "name": "stdout",
          "output_type": "stream",
          "text": [
            "Empty DataFrame\n",
            "Columns: [Gender, Age, Annual Income (k$)]\n",
            "Index: []\n"
          ]
        }
      ],
      "source": [
        "# Находим моду для возраста\n",
        "mode_age = X_test['Age'].mode()[0]\n",
        "\n",
        "# Заменяем аномальные значения на моду\n",
        "X_test.loc[X_test['Age'] > 90, 'Age'] = mode_age\n",
        "\n",
        "# Проверяем, что аномальные значения были заменены\n",
        "print(X_test[X_test['Age'] > 90])"
      ]
    },
    {
      "cell_type": "code",
      "execution_count": 36,
      "metadata": {},
      "outputs": [
        {
          "name": "stdout",
          "output_type": "stream",
          "text": [
            "count   40.000\n",
            "mean    39.698\n",
            "std     11.937\n",
            "min     23.950\n",
            "25%     31.750\n",
            "50%     36.000\n",
            "75%     49.000\n",
            "max     65.000\n",
            "Name: Age, dtype: float64\n"
          ]
        },
        {
          "data": {
            "image/png": "[encoded data removed]",
            "text/plain": [
              "<Figure size 800x600 with 1 Axes>"
            ]
          },
          "metadata": {},
          "output_type": "display_data"
        }
      ],
      "source": [
        "import pandas as pd\n",
        "import seaborn as sns\n",
        "import matplotlib.pyplot as plt\n",
        "\n",
        "# Предположим, что X_test уже загружен и содержит столбец 'Age'\n",
        "\n",
        "# Проверка на наличие пропусков\n",
        "if X_test['Age'].isnull().sum() > 0:\n",
        "    print(\"В данных есть пропуски в столбце 'Age'. Рекомендуется заполнить их перед обработкой выбросов.\")\n",
        "\n",
        "# Определение нижней и верхней границ выбросов с помощью квантилей\n",
        "lower_bound_age = X_test['Age'].quantile(0.05)  # 5-й процентиль\n",
        "upper_bound_age = X_test['Age'].quantile(0.95)  # 95-й процентиль\n",
        "\n",
        "# Замена значений ниже 5-го и выше 95-го процентилей на соответствующие квантильные значения\n",
        "X_test.loc[X_test['Age'] < lower_bound_age, 'Age'] = lower_bound_age\n",
        "X_test.loc[X_test['Age'] > upper_bound_age, 'Age'] = upper_bound_age\n",
        "\n",
        "# Проверка результата\n",
        "print(X_test['Age'].describe())\n",
        "\n",
        "# Визуализация распределения возраста после обработки\n",
        "plt.figure(figsize=(8, 6))\n",
        "sns.histplot(X_test['Age'], bins=30, kde=True, color='green')\n",
        "plt.title('Распределение возраста (после обработки выбросов с quantile)')\n",
        "plt.xlabel('Возраст')\n",
        "plt.ylabel('Частота')\n",
        "plt.show()"
      ]
    },
    {
      "cell_type": "code",
      "execution_count": 37,
      "metadata": {},
      "outputs": [
        {
          "name": "stdout",
          "output_type": "stream",
          "text": [
            "count    40.000\n",
            "mean     60.517\n",
            "std      27.170\n",
            "min      17.000\n",
            "25%      38.750\n",
            "50%      60.000\n",
            "75%      85.500\n",
            "max     113.350\n",
            "Name: Annual Income (k$), dtype: float64\n"
          ]
        }
      ],
      "source": [
        "# Определение 95-го процентиля для годового дохода\n",
        "income_upper_limit = X_test['Annual Income (k$)'].quantile(0.95)\n",
        "\n",
        "# Замена значений выше 95-го процентиля на это значение\n",
        "X_test.loc[X_test['Annual Income (k$)'] > income_upper_limit, 'Annual Income (k$)'] = income_upper_limit\n",
        "\n",
        "# Проверка результата\n",
        "print(X_test['Annual Income (k$)'].describe())"
      ]
    },
    {
      "cell_type": "code",
      "execution_count": 38,
      "metadata": {},
      "outputs": [
        {
          "name": "stdout",
          "output_type": "stream",
          "text": [
            "         Age  Annual Income (k$)\n",
            "count 40.000              40.000\n",
            "mean  -0.000               0.000\n",
            "std    1.013               1.013\n",
            "min   -1.336              -1.622\n",
            "25%   -0.674              -0.811\n",
            "50%   -0.314              -0.019\n",
            "75%    0.789               0.931\n",
            "max    2.147               1.969\n"
          ]
        },
        {
          "data": {
            "image/png": "[encoded data removed]",
            "text/plain": [
              "<Figure size 800x600 with 1 Axes>"
            ]
          },
          "metadata": {},
          "output_type": "display_data"
        }
      ],
      "source": [
        "from sklearn.preprocessing import StandardScaler\n",
        "import pandas as pd\n",
        "import seaborn as sns\n",
        "import matplotlib.pyplot as plt\n",
        "\n",
        "# Создаем экземпляр StandardScaler\n",
        "scaler = StandardScaler()\n",
        "\n",
        "# Применяем масштабирование только к числовым признакам (например, 'Age' и 'Annual Income (k$)')\n",
        "X_test[['Age', 'Annual Income (k$)']] = scaler.fit_transform(X_test[['Age', 'Annual Income (k$)']])\n",
        "\n",
        "# Проверяем результаты\n",
        "print(X_test[['Age', 'Annual Income (k$)']].describe())\n",
        "\n",
        "# Визуализация масштабированных данных\n",
        "plt.figure(figsize=(8, 6))\n",
        "sns.histplot(X_test['Age'], bins=30, kde=True, color='blue', label='Age')\n",
        "sns.histplot(X_test['Annual Income (k$)'], bins=30, kde=True, color='orange', label='Annual Income')\n",
        "plt.title('Масштабированные данные (Age и Annual Income)')\n",
        "plt.xlabel('Значение')\n",
        "plt.ylabel('Частота')\n",
        "plt.legend()\n",
        "plt.show()"
      ]
    },
    {
      "cell_type": "code",
      "execution_count": 39,
      "metadata": {},
      "outputs": [
        {
          "name": "stdout",
          "output_type": "stream",
          "text": [
            "Index(['Gender', 'Age', 'Annual Income (k$)'], dtype='object')\n"
          ]
        }
      ],
      "source": [
        "print(X_test.columns)"
      ]
    },
    {
      "cell_type": "code",
      "execution_count": 40,
      "metadata": {},
      "outputs": [
        {
          "name": "stdout",
          "output_type": "stream",
          "text": [
            "     Gender    Age  Annual Income (k$)\n",
            "58        0 -1.077              -0.541\n",
            "40        0  2.147              -0.839\n",
            "34        0  0.789              -1.026\n",
            "102       1  2.147               0.055\n",
            "184       0  0.111               1.434\n",
            "Gender                0\n",
            "Age                   0\n",
            "Annual Income (k$)    0\n",
            "dtype: int64\n"
          ]
        }
      ],
      "source": [
        "from sklearn.impute import SimpleImputer\n",
        "import numpy as np\n",
        "\n",
        "# Заменяем значения \"Unknown\" на NaN с использованием mask\n",
        "X_test['Gender'] = X_test['Gender'].mask(X_test['Gender'] == 'Unknown', np.nan)\n",
        "\n",
        "# Создание экземпляра SimpleImputer для заполнения NaN в категориальных данных\n",
        "categorical_imputer = SimpleImputer(strategy='most_frequent')\n",
        "\n",
        "# Заполнение пропусков в колонке 'Gender'\n",
        "X_test['Gender'] = categorical_imputer.fit_transform(X_test[['Gender']]).flatten()\n",
        "\n",
        "# Преобразование значений 'Gender' в бинарные\n",
        "X_test['Gender'] = X_test['Gender'].replace({'Male': 1, 'Female': 0})\n",
        "\n",
        "# Проверка результата\n",
        "print(X_test[['Gender', 'Age', 'Annual Income (k$)']].head())\n",
        "print(X_test.isnull().sum())  # Проверка на наличие NaN"
      ]
    },
    {
      "cell_type": "code",
      "execution_count": 46,
      "metadata": {},
      "outputs": [
        {
          "data": {
            "text/html": [
              "<div>\n",
              "<style scoped>\n",
              "    .dataframe tbody tr th:only-of-type {\n",
              "        vertical-align: middle;\n",
              "    }\n",
              "\n",
              "    .dataframe tbody tr th {\n",
              "        vertical-align: top;\n",
              "    }\n",
              "\n",
              "    .dataframe thead th {\n",
              "        text-align: right;\n",
              "    }\n",
              "</style>\n",
              "<table border=\"1\" class=\"dataframe\">\n",
              "  <thead>\n",
              "    <tr style=\"text-align: right;\">\n",
              "      <th></th>\n",
              "      <th>Gender</th>\n",
              "      <th>Age</th>\n",
              "      <th>Annual Income (k$)</th>\n",
              "    </tr>\n",
              "  </thead>\n",
              "  <tbody>\n",
              "    <tr>\n",
              "      <th>40</th>\n",
              "      <td>0</td>\n",
              "      <td>2.147</td>\n",
              "      <td>-0.839</td>\n",
              "    </tr>\n",
              "    <tr>\n",
              "      <th>198</th>\n",
              "      <td>1</td>\n",
              "      <td>-0.314</td>\n",
              "      <td>1.969</td>\n",
              "    </tr>\n",
              "    <tr>\n",
              "      <th>73</th>\n",
              "      <td>0</td>\n",
              "      <td>1.722</td>\n",
              "      <td>-0.392</td>\n",
              "    </tr>\n",
              "    <tr>\n",
              "      <th>177</th>\n",
              "      <td>1</td>\n",
              "      <td>-1.077</td>\n",
              "      <td>1.024</td>\n",
              "    </tr>\n",
              "    <tr>\n",
              "      <th>59</th>\n",
              "      <td>1</td>\n",
              "      <td>1.129</td>\n",
              "      <td>-0.541</td>\n",
              "    </tr>\n",
              "    <tr>\n",
              "      <th>95</th>\n",
              "      <td>0</td>\n",
              "      <td>-1.332</td>\n",
              "      <td>-0.019</td>\n",
              "    </tr>\n",
              "    <tr>\n",
              "      <th>38</th>\n",
              "      <td>0</td>\n",
              "      <td>-0.314</td>\n",
              "      <td>-0.877</td>\n",
              "    </tr>\n",
              "  </tbody>\n",
              "</table>\n",
              "</div>"
            ],
            "text/plain": [
              "     Gender    Age  Annual Income (k$)\n",
              "40        0  2.147              -0.839\n",
              "198       1 -0.314               1.969\n",
              "73        0  1.722              -0.392\n",
              "177       1 -1.077               1.024\n",
              "59        1  1.129              -0.541\n",
              "95        0 -1.332              -0.019\n",
              "38        0 -0.314              -0.877"
            ]
          },
          "execution_count": 46,
          "metadata": {},
          "output_type": "execute_result"
        }
      ],
      "source": [
        "X_test.sample(7)"
      ]
    },
    {
      "cell_type": "code",
      "execution_count": null,
      "metadata": {},
      "outputs": [],
      "source": []
    }
  ],
  "metadata": {
    "colab": {
      "provenance": []
    },
    "gpuClass": "standard",
    "kernelspec": {
      "display_name": "Python 3",
      "name": "python3"
    },
    "language_info": {
      "codemirror_mode": {
        "name": "ipython",
        "version": 3
      },
      "file_extension": ".py",
      "mimetype": "text/x-python",
      "name": "python",
      "nbconvert_exporter": "python",
      "pygments_lexer": "ipython3",
      "version": "3.8.10"
    }
  },
  "nbformat": 4,
  "nbformat_minor": 0
}
